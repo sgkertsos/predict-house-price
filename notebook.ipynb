{
 "cells": [
  {
   "cell_type": "markdown",
   "metadata": {},
   "source": [
    "#### Import libraries"
   ]
  },
  {
   "cell_type": "code",
   "execution_count": 1,
   "metadata": {},
   "outputs": [],
   "source": [
    "import pandas as pd"
   ]
  },
  {
   "cell_type": "markdown",
   "metadata": {},
   "source": [
    "#### Load data"
   ]
  },
  {
   "cell_type": "code",
   "execution_count": 12,
   "metadata": {},
   "outputs": [],
   "source": [
    "df = pd.read_csv('./data/data.csv')"
   ]
  },
  {
   "cell_type": "markdown",
   "metadata": {},
   "source": [
    "#### Clean data"
   ]
  },
  {
   "cell_type": "code",
   "execution_count": 20,
   "metadata": {},
   "outputs": [],
   "source": [
    "df['land_size_sqm'] = df['land_size_sqm'].str.replace(' sqm', '')\n",
    "df['house_size_sqm'] = df['house_size_sqm'].str.replace(' sqm', '')\n",
    "df['large_living_room'] = df['large_living_room'].str.replace('No', '0')\n",
    "df['large_living_room'] = df['large_living_room'].str.replace('Yes', '1')\n",
    "df['parking_space'] = df['parking_space'].str.replace('No', '0')\n",
    "df['parking_space'] = df['parking_space'].str.replace('Yes', '1')"
   ]
  },
  {
   "cell_type": "code",
   "execution_count": 24,
   "metadata": {},
   "outputs": [
    {
     "data": {
      "text/html": [
       "<div>\n",
       "<style scoped>\n",
       "    .dataframe tbody tr th:only-of-type {\n",
       "        vertical-align: middle;\n",
       "    }\n",
       "\n",
       "    .dataframe tbody tr th {\n",
       "        vertical-align: top;\n",
       "    }\n",
       "\n",
       "    .dataframe thead th {\n",
       "        text-align: right;\n",
       "    }\n",
       "</style>\n",
       "<table border=\"1\" class=\"dataframe\">\n",
       "  <thead>\n",
       "    <tr style=\"text-align: right;\">\n",
       "      <th></th>\n",
       "      <th>land_size_sqm</th>\n",
       "      <th>house_size_sqm</th>\n",
       "      <th>no_of_rooms</th>\n",
       "      <th>no_of_bathrooms</th>\n",
       "      <th>large_living_room</th>\n",
       "      <th>parking_space</th>\n",
       "      <th>front_garden</th>\n",
       "      <th>swimming_pool</th>\n",
       "      <th>distance_to_school</th>\n",
       "      <th>wall_fence</th>\n",
       "      <th>house_age</th>\n",
       "      <th>water_front</th>\n",
       "      <th>distance_to_supermarket</th>\n",
       "      <th>crime_rate_index</th>\n",
       "      <th>room_size</th>\n",
       "      <th>property_value</th>\n",
       "    </tr>\n",
       "  </thead>\n",
       "  <tbody>\n",
       "    <tr>\n",
       "      <th>0</th>\n",
       "      <td>201</td>\n",
       "      <td>177</td>\n",
       "      <td>3</td>\n",
       "      <td>1</td>\n",
       "      <td>0</td>\n",
       "      <td>1</td>\n",
       "      <td>Yes</td>\n",
       "      <td>No</td>\n",
       "      <td>3.3km</td>\n",
       "      <td>Yes</td>\n",
       "      <td>10 Years</td>\n",
       "      <td>No</td>\n",
       "      <td>6.8 km</td>\n",
       "      <td>0.90</td>\n",
       "      <td>small</td>\n",
       "      <td>165432</td>\n",
       "    </tr>\n",
       "    <tr>\n",
       "      <th>1</th>\n",
       "      <td>196</td>\n",
       "      <td>182</td>\n",
       "      <td>4</td>\n",
       "      <td>3</td>\n",
       "      <td>1</td>\n",
       "      <td>1</td>\n",
       "      <td>No</td>\n",
       "      <td>Yes</td>\n",
       "      <td>1.2km</td>\n",
       "      <td>Yes</td>\n",
       "      <td>11 Years</td>\n",
       "      <td>No</td>\n",
       "      <td>4.1 km</td>\n",
       "      <td>1.42</td>\n",
       "      <td>medium</td>\n",
       "      <td>187043</td>\n",
       "    </tr>\n",
       "    <tr>\n",
       "      <th>2</th>\n",
       "      <td>198</td>\n",
       "      <td>182</td>\n",
       "      <td>4</td>\n",
       "      <td>4</td>\n",
       "      <td>1</td>\n",
       "      <td>1</td>\n",
       "      <td>No</td>\n",
       "      <td>Yes</td>\n",
       "      <td>5.9km</td>\n",
       "      <td>No</td>\n",
       "      <td>20 Years</td>\n",
       "      <td>No</td>\n",
       "      <td>2.1 km</td>\n",
       "      <td>4.12</td>\n",
       "      <td>medium</td>\n",
       "      <td>148658</td>\n",
       "    </tr>\n",
       "    <tr>\n",
       "      <th>3</th>\n",
       "      <td>178</td>\n",
       "      <td>166</td>\n",
       "      <td>2</td>\n",
       "      <td>3</td>\n",
       "      <td>0</td>\n",
       "      <td>1</td>\n",
       "      <td>No</td>\n",
       "      <td>No</td>\n",
       "      <td>5.9km</td>\n",
       "      <td>No</td>\n",
       "      <td>5 Years</td>\n",
       "      <td>No</td>\n",
       "      <td>0.7 km</td>\n",
       "      <td>4.36</td>\n",
       "      <td>small</td>\n",
       "      <td>123785</td>\n",
       "    </tr>\n",
       "    <tr>\n",
       "      <th>4</th>\n",
       "      <td>183</td>\n",
       "      <td>165</td>\n",
       "      <td>3</td>\n",
       "      <td>1</td>\n",
       "      <td>1</td>\n",
       "      <td>1</td>\n",
       "      <td>No</td>\n",
       "      <td>No</td>\n",
       "      <td>3.8km</td>\n",
       "      <td>Yes</td>\n",
       "      <td>8 Years</td>\n",
       "      <td>No</td>\n",
       "      <td>0.7 km</td>\n",
       "      <td>0.42</td>\n",
       "      <td>small</td>\n",
       "      <td>156470</td>\n",
       "    </tr>\n",
       "  </tbody>\n",
       "</table>\n",
       "</div>"
      ],
      "text/plain": [
       "  land_size_sqm house_size_sqm  no_of_rooms  no_of_bathrooms  \\\n",
       "0           201            177            3                1   \n",
       "1           196            182            4                3   \n",
       "2           198            182            4                4   \n",
       "3           178            166            2                3   \n",
       "4           183            165            3                1   \n",
       "\n",
       "  large_living_room parking_space front_garden swimming_pool  \\\n",
       "0                 0             1          Yes            No   \n",
       "1                 1             1           No           Yes   \n",
       "2                 1             1           No           Yes   \n",
       "3                 0             1           No            No   \n",
       "4                 1             1           No            No   \n",
       "\n",
       "  distance_to_school wall_fence house_age water_front distance_to_supermarket  \\\n",
       "0              3.3km        Yes  10 Years          No                  6.8 km   \n",
       "1              1.2km        Yes  11 Years          No                  4.1 km   \n",
       "2              5.9km         No  20 Years          No                  2.1 km   \n",
       "3              5.9km         No   5 Years          No                  0.7 km   \n",
       "4              3.8km        Yes   8 Years          No                  0.7 km   \n",
       "\n",
       "   crime_rate_index room_size  property_value  \n",
       "0              0.90     small          165432  \n",
       "1              1.42    medium          187043  \n",
       "2              4.12    medium          148658  \n",
       "3              4.36     small          123785  \n",
       "4              0.42     small          156470  "
      ]
     },
     "execution_count": 24,
     "metadata": {},
     "output_type": "execute_result"
    }
   ],
   "source": [
    "df.head()"
   ]
  },
  {
   "cell_type": "code",
   "execution_count": null,
   "metadata": {},
   "outputs": [],
   "source": []
  }
 ],
 "metadata": {
  "kernelspec": {
   "display_name": "Python 3",
   "language": "python",
   "name": "python3"
  },
  "language_info": {
   "codemirror_mode": {
    "name": "ipython",
    "version": 3
   },
   "file_extension": ".py",
   "mimetype": "text/x-python",
   "name": "python",
   "nbconvert_exporter": "python",
   "pygments_lexer": "ipython3",
   "version": "3.12.1"
  }
 },
 "nbformat": 4,
 "nbformat_minor": 2
}
